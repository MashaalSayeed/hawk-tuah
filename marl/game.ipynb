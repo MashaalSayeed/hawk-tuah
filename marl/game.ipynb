{
 "cells": [
  {
   "cell_type": "code",
   "execution_count": 1,
   "metadata": {},
   "outputs": [],
   "source": [
    "%matplotlib inline\n",
    "\n",
    "import random\n",
    "import numpy as np\n",
    "\n",
    "from drone import FireGrid, ScoutDrone, SuppressorDrone\n",
    "from env import FireFightingEnv"
   ]
  },
  {
   "cell_type": "code",
   "execution_count": 2,
   "metadata": {},
   "outputs": [],
   "source": [
    "np.random.seed(1)\n",
    "random.seed(1)\n",
    "\n",
    "grid_size = (50, 50)\n",
    "env = FireFightingEnv(render_mode='human')\n",
    "obs, info = env.reset()"
   ]
  },
  {
   "cell_type": "code",
   "execution_count": 3,
   "metadata": {},
   "outputs": [
    {
     "data": {
      "image/png": "[encoded data removed]",
      "text/plain": [
       "<Figure size 640x480 with 1 Axes>"
      ]
     },
     "metadata": {},
     "output_type": "display_data"
    },
    {
     "data": {
      "text/plain": [
       "<Figure size 640x480 with 0 Axes>"
      ]
     },
     "metadata": {},
     "output_type": "display_data"
    }
   ],
   "source": [
    "env.render()"
   ]
  },
  {
   "cell_type": "code",
   "execution_count": 10,
   "metadata": {},
   "outputs": [
    {
     "data": {
      "text/plain": [
       "(array([8]), array([17]))"
      ]
     },
     "execution_count": 10,
     "metadata": {},
     "output_type": "execute_result"
    }
   ],
   "source": [
    "local_fire_map = env.agent_map['scout_1'].sense_fire(env.fire_grid)\n",
    "hotspot_indices = np.where(local_fire_map > 0)\n",
    "hotspot_indices\n"
   ]
  },
  {
   "cell_type": "code",
   "execution_count": 11,
   "metadata": {},
   "outputs": [
    {
     "data": {
      "text/plain": [
       "array([92, 20])"
      ]
     },
     "execution_count": 11,
     "metadata": {},
     "output_type": "execute_result"
    }
   ],
   "source": [
    "env.agent_map['scout_1'].position"
   ]
  },
  {
   "cell_type": "code",
   "execution_count": 12,
   "metadata": {},
   "outputs": [
    {
     "data": {
      "text/plain": [
       "array([[ 8, 85],\n",
       "       [10, 33],\n",
       "       [20, 30],\n",
       "       [71, 17],\n",
       "       [73, 97],\n",
       "       [78, 75],\n",
       "       [86, 72],\n",
       "       [88, 92],\n",
       "       [90, 27],\n",
       "       [90, 87]])"
      ]
     },
     "execution_count": 12,
     "metadata": {},
     "output_type": "execute_result"
    }
   ],
   "source": [
    "fires = np.where(env.fire_grid.grid > 0, 1, 0).astype(np.uint8)\n",
    "np.argwhere(fires > 0)"
   ]
  },
  {
   "cell_type": "code",
   "execution_count": 14,
   "metadata": {},
   "outputs": [
    {
     "data": {
      "text/plain": [
       "array([[90, 27]])"
      ]
     },
     "execution_count": 14,
     "metadata": {},
     "output_type": "execute_result"
    }
   ],
   "source": [
    "drone = env.agent_map['scout_1']\n",
    "x, y = drone.position\n",
    "\n",
    "offset_x = max(0, x - drone.sensing_radius)\n",
    "offset_y = max(0, y - drone.sensing_radius)\n",
    "\n",
    "# Convert local hotspot coordinates to global coordinates\n",
    "visible_hotspots = np.array([\n",
    "    [hotspot_indices[0][i] + offset_x, hotspot_indices[1][i] + offset_y]\n",
    "    for i in range(len(hotspot_indices[0]))\n",
    "])\n",
    "visible_hotspots"
   ]
  },
  {
   "cell_type": "code",
   "execution_count": null,
   "metadata": {},
   "outputs": [
    {
     "data": {
      "text/plain": [
       "(array([0.84987918]), np.float64(0.8498791800104656))"
      ]
     },
     "execution_count": 17,
     "metadata": {},
     "output_type": "execute_result"
    }
   ],
   "source": [
    "intensities = env.fire_grid.grid[visible_hotspots[:, 0], visible_hotspots[:, 1]]\n",
    "intensities"
   ]
  },
  {
   "cell_type": "code",
   "execution_count": 18,
   "metadata": {},
   "outputs": [
    {
     "data": {
      "text/plain": [
       "array([90, 27])"
      ]
     },
     "execution_count": 18,
     "metadata": {},
     "output_type": "execute_result"
    }
   ],
   "source": [
    "target_position = visible_hotspots[np.argmax(intensities)]\n",
    "target_position"
   ]
  },
  {
   "cell_type": "code",
   "execution_count": 30,
   "metadata": {},
   "outputs": [
    {
     "name": "stdout",
     "output_type": "stream",
     "text": [
      "Move from [92 20] to [90 27]\n",
      "Velocity: [-2  7]\n"
     ]
    }
   ],
   "source": [
    "direction = target_position - drone.position\n",
    "distance = np.linalg.norm(direction)\n",
    "if distance > 1e-3:  # avoid division by zero\n",
    "    velocity = direction\n",
    "    drone.velocity = velocity\n",
    "else:\n",
    "    drone.velocity = np.zeros(2)\n",
    "\n",
    "print(f\"Move from {drone.position} to {target_position}\")\n",
    "print(f\"Velocity: {drone.velocity}\")"
   ]
  },
  {
   "cell_type": "code",
   "execution_count": 22,
   "metadata": {},
   "outputs": [
    {
     "data": {
      "text/plain": [
       "6"
      ]
     },
     "execution_count": 22,
     "metadata": {},
     "output_type": "execute_result"
    }
   ],
   "source": [
    "vx, vy = drone.velocity\n",
    "angle = np.arctan2(vy, vx)\n",
    "action = int(((angle + np.pi) / (2 * np.pi / 8)) % 8)\n",
    "\n",
    "action"
   ]
  },
  {
   "cell_type": "code",
   "execution_count": 34,
   "metadata": {},
   "outputs": [
    {
     "data": {
      "text/plain": [
       "6"
      ]
     },
     "execution_count": 34,
     "metadata": {},
     "output_type": "execute_result"
    }
   ],
   "source": [
    "angle = np.arctan2(1, 0)\n",
    "angle = (angle + 360) % 360  # Normalize to [0, 360)\n",
    "\n",
    "# Each octant is 45 degrees\n",
    "index = int(((angle + 22.5) % 360) // 45)\n",
    "action"
   ]
  },
  {
   "cell_type": "code",
   "execution_count": 39,
   "metadata": {},
   "outputs": [
    {
     "name": "stdout",
     "output_type": "stream",
     "text": [
      "Velocity: (0, 1) -> Action: 6\n",
      "Velocity: (1, 1) -> Action: 5\n",
      "Velocity: (1, 0) -> Action: 4\n",
      "Velocity: (1, -1) -> Action: 3\n",
      "Velocity: (0, -1) -> Action: 2\n",
      "Velocity: (-1, -1) -> Action: 1\n",
      "Velocity: (-1, 0) -> Action: 0\n",
      "Velocity: (-1, 1) -> Action: 7\n"
     ]
    }
   ],
   "source": [
    "angles = [\n",
    "    (0, 1),   # North\n",
    "    (1, 1),   # North-East\n",
    "    (1, 0),   # East\n",
    "    (1, -1),  # South-East\n",
    "    (0, -1),  # South\n",
    "    (-1, -1), # South-West\n",
    "    (-1, 0),  # West\n",
    "    (-1, 1)   # North-West\n",
    "]\n",
    "\n",
    "for vx, vy in angles:\n",
    "    angle = np.arctan2(vy, vx)\n",
    "    action = int(((angle + np.pi) / (2 * np.pi / 8)) % 8)\n",
    "    print(f\"Velocity: ({vx}, {vy}) -> Action: {action}\")"
   ]
  },
  {
   "cell_type": "code",
   "execution_count": 43,
   "metadata": {},
   "outputs": [
    {
     "data": {
      "text/plain": [
       "np.float64(0.0)"
      ]
     },
     "execution_count": 43,
     "metadata": {},
     "output_type": "execute_result"
    }
   ],
   "source": [
    "fire_locations = np.argwhere(env.fire_grid.grid > 0)\n",
    "env.fire_grid.grid[drone.position[0], drone.position[1]]"
   ]
  },
  {
   "cell_type": "code",
   "execution_count": null,
   "metadata": {},
   "outputs": [],
   "source": []
  }
 ],
 "metadata": {
  "kernelspec": {
   "display_name": "drone-project",
   "language": "python",
   "name": "python3"
  },
  "language_info": {
   "codemirror_mode": {
    "name": "ipython",
    "version": 3
   },
   "file_extension": ".py",
   "mimetype": "text/x-python",
   "name": "python",
   "nbconvert_exporter": "python",
   "pygments_lexer": "ipython3",
   "version": "3.9.20"
  }
 },
 "nbformat": 4,
 "nbformat_minor": 2
}
